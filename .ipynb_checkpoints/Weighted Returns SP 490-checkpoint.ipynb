{
 "cells": [
  {
   "cell_type": "markdown",
   "id": "6075a36e",
   "metadata": {},
   "source": [
    "This code will create a market cap weighted portfolio of the 500 largest stocks by market cap and compute the monthly returns. We will then compare the top 10 stocks to the remaining 490 stocks. \n",
    "Lessons include: working with CRSP; using the groupby command and double indexes; how to compute weighted portfolio returns; and an analysis of returns to the top 10 stocks compared to market averages"
   ]
  },
  {
   "cell_type": "code",
   "execution_count": null,
   "id": "7831019b",
   "metadata": {},
   "outputs": [],
   "source": [
    "import pandas as pd\n",
    "import numpy as np\n",
    "import matplotlib.pyplot as plt\n",
    "from pandas.tseries.offsets import MonthEnd"
   ]
  },
  {
   "cell_type": "markdown",
   "id": "6cc7db0f",
   "metadata": {},
   "source": [
    "The CRSP and Compustat files are stored and uploaded to Brightspace in a \"feather\" file format. This helps reduce the size. To read them into Python it is quite quick with the pd.read_feather command. Here I'll read in Compustat as well, although this program will only make use of CRSP. "
   ]
  },
  {
   "cell_type": "code",
   "execution_count": null,
   "id": "b48ae366",
   "metadata": {},
   "outputs": [],
   "source": [
    "stocks = pd.read_feather('crsp_monthly_stocks.feather')\n",
    "cstat  = pd.read_feather('compustat_annual.feather')"
   ]
  },
  {
   "cell_type": "markdown",
   "id": "2c9793a7",
   "metadata": {},
   "source": [
    "The dataframe contains one row for each stock/month -- sorted first by PERMNO, then by DATE. The other fields are SHRCD (10 and 11 for commmon stocks), EXCHCD (which exchange they are listed on), SICCD (industry), PRC (price), VOL (volume), RET (return over the month, including dividends), SPREAD (the bid/ask spread -- although note that this data field contains a lot of missing values), RETX (the monthly return without the dividend), and SHROUT (shares outstanding). "
   ]
  },
  {
   "cell_type": "code",
   "execution_count": null,
   "id": "f2ea5374",
   "metadata": {},
   "outputs": [],
   "source": [
    "stocks.head()"
   ]
  },
  {
   "cell_type": "markdown",
   "id": "4de2e219",
   "metadata": {},
   "source": [
    "Note that the stock/months are all stacked on top of one another. Be careful -- if we are to just apply things like the shift function or try to compute moving averages of the prices, we may inadvertantly refer to the prior company's data.This would be bad!"
   ]
  },
  {
   "cell_type": "code",
   "execution_count": null,
   "id": "d774ed3b",
   "metadata": {},
   "outputs": [],
   "source": [
    "stocks.iloc[390:405]"
   ]
  },
  {
   "cell_type": "markdown",
   "id": "db556235",
   "metadata": {},
   "source": [
    "Here's the Compustat file -- each row contains one fiscal years worth of data for a firm"
   ]
  },
  {
   "cell_type": "code",
   "execution_count": null,
   "id": "5d5c64b7",
   "metadata": {},
   "outputs": [],
   "source": [
    "cstat.head()"
   ]
  },
  {
   "cell_type": "markdown",
   "id": "f6a7a072",
   "metadata": {},
   "source": [
    "In order to avoid mixing up data across stocks, we can use a double index. If we give our set_index command two data fields, they will both be indexes -- index level 1, index level 2. We can also fix the PRC field to be positive, and compute market cap. Note that the Market Cap field, as calculated, uses the end-of-month price. If we are to use this to form portfolios, that will then induce look-ahead bias! So let's also lag that field. Here we use the groupby command. This means that we apply the shift function to each PERMNO group, but we don't apply shift across PERMNOs. "
   ]
  },
  {
   "cell_type": "code",
   "execution_count": null,
   "id": "0190b984",
   "metadata": {},
   "outputs": [],
   "source": [
    "stocks.set_index(['PERMNO','DATE'], inplace=True)\n",
    "stocks.sort_index(inplace=True)\n",
    "\n",
    "stocks['PRC']=abs(stocks['PRC'])\n",
    "stocks['mkcap']=stocks['PRC']*stocks['SHROUT'] \n",
    "stocks['lag MC']  = stocks['mkcap'].groupby('PERMNO').shift(1)"
   ]
  },
  {
   "cell_type": "markdown",
   "id": "a1061cd2",
   "metadata": {},
   "source": [
    "Note that our groupby function works here -- the first entry for PERMNO 10001 does not receive a 'lag MC' equal to the final market cap of PERMNO 10000. "
   ]
  },
  {
   "cell_type": "code",
   "execution_count": null,
   "id": "9cd2c61e",
   "metadata": {
    "scrolled": true
   },
   "outputs": [],
   "source": [
    "stocks.head(30)"
   ]
  },
  {
   "cell_type": "markdown",
   "id": "4ce19ba7",
   "metadata": {},
   "source": [
    "We can use the rank function to give the ordering for each stock each month. Using the 'ascending=False' parameter will reverse the sort so that the largest stock will get a rank of 1 and the smallest will get a rank of N. Here we are using a groupby on date -- so each date, we are ranking the PERMNOs by thier lagged market cap. "
   ]
  },
  {
   "cell_type": "code",
   "execution_count": null,
   "id": "d229c146",
   "metadata": {},
   "outputs": [],
   "source": [
    "stocks['rank'] = stocks['lag MC'].groupby('DATE').rank(ascending=False)"
   ]
  },
  {
   "cell_type": "markdown",
   "id": "2e3380a1",
   "metadata": {},
   "source": [
    "PERMNO 14593 corresponds to Apple. We can look at that as an example and see that it is now ranked #1 as the largest stock (2.7 Trillion USD market cap) while back in the 1980's it was in the mid-100s range."
   ]
  },
  {
   "cell_type": "code",
   "execution_count": null,
   "id": "f544e1ca",
   "metadata": {},
   "outputs": [],
   "source": [
    "stocks.loc[14593]"
   ]
  },
  {
   "cell_type": "markdown",
   "id": "fbb9d793",
   "metadata": {},
   "source": [
    "Now restrict the universe to only those ranked from 1 to 500. "
   ]
  },
  {
   "cell_type": "code",
   "execution_count": null,
   "id": "05f18721",
   "metadata": {},
   "outputs": [],
   "source": [
    "stocks=stocks.loc[stocks['rank'] < 501]"
   ]
  },
  {
   "cell_type": "markdown",
   "id": "b6cdbb4a",
   "metadata": {},
   "source": [
    "Next we will compute monthly returns for the following portfolios: \n",
    "1. Equally weighted top 500 stocks\n",
    "2. Market Cap weighted top 500 stocks\n",
    "3. Market Cap weighted top 10 stocks\n",
    "4. Market Cap weighted stocks 11-500"
   ]
  },
  {
   "cell_type": "markdown",
   "id": "fad2c86b",
   "metadata": {},
   "source": [
    "The first is easy. We just need to take the mean return across all stocks for each date. "
   ]
  },
  {
   "cell_type": "code",
   "execution_count": null,
   "id": "43bec46f",
   "metadata": {},
   "outputs": [],
   "source": [
    "EWport = stocks['RET'].groupby('DATE').mean()\n",
    "EWport"
   ]
  },
  {
   "cell_type": "markdown",
   "id": "154b5975",
   "metadata": {},
   "source": [
    "To do a market cap weighted portfolio, we need to first compute some weights. And be careful about look-ahead bias! First we will compute the total market cap for each date, and then each stocks weight will be the corresponding percentage that it accounts for in our data set. "
   ]
  },
  {
   "cell_type": "code",
   "execution_count": null,
   "id": "3c48f651",
   "metadata": {},
   "outputs": [],
   "source": [
    "totalmkt=stocks['lag MC'].groupby('DATE').sum()\n",
    "totalmkt"
   ]
  },
  {
   "cell_type": "code",
   "execution_count": null,
   "id": "3f6aaf27",
   "metadata": {},
   "outputs": [],
   "source": [
    "stocks['MCwt'] = stocks['lag MC'] / stocks['lag MC'].groupby('DATE').sum()"
   ]
  },
  {
   "cell_type": "markdown",
   "id": "80bccfaa",
   "metadata": {},
   "source": [
    "check to be sure that my weights sum up to 1 for each period"
   ]
  },
  {
   "cell_type": "code",
   "execution_count": null,
   "id": "6ceac8c0",
   "metadata": {},
   "outputs": [],
   "source": [
    "stocks['MCwt'].groupby('DATE').sum()"
   ]
  },
  {
   "cell_type": "markdown",
   "id": "b747fdf6",
   "metadata": {},
   "source": [
    "Our portfolio returns are then the sum product of each stock's weights times the returns"
   ]
  },
  {
   "cell_type": "code",
   "execution_count": null,
   "id": "7e52acb3",
   "metadata": {},
   "outputs": [],
   "source": [
    "stocks['ret500']=stocks['RET']*stocks['MCwt']"
   ]
  },
  {
   "cell_type": "code",
   "execution_count": null,
   "id": "7ab54619",
   "metadata": {},
   "outputs": [],
   "source": [
    "port500 = stocks['ret500'].groupby('DATE').sum()"
   ]
  },
  {
   "cell_type": "code",
   "execution_count": null,
   "id": "c423adec",
   "metadata": {},
   "outputs": [],
   "source": [
    "port500"
   ]
  },
  {
   "cell_type": "markdown",
   "id": "5211e0cc",
   "metadata": {},
   "source": [
    "Now let's take a quicklook at the returns for the top 500 stocks weighted by market cap and by equal weight. Note that the returns and the volatility are both higher for the equal weight portfolio. This is consistent with the size effect and SMB factor -- small cap stocks tend to outperform large cap stocks, and with more volatility. "
   ]
  },
  {
   "cell_type": "code",
   "execution_count": null,
   "id": "136de16a",
   "metadata": {},
   "outputs": [],
   "source": [
    "port500.describe()"
   ]
  },
  {
   "cell_type": "code",
   "execution_count": null,
   "id": "f4987703",
   "metadata": {},
   "outputs": [],
   "source": [
    "EWport.describe()"
   ]
  },
  {
   "cell_type": "markdown",
   "id": "f863dc52",
   "metadata": {},
   "source": [
    "What about the results of the top 10 stocks and the other 490? We can split our universe fairly easily and then compute these returns as well. Note that we can't just directly apply the market cap weights we have already calculated, though. If we do that, the total weights will not sum to 1. "
   ]
  },
  {
   "cell_type": "code",
   "execution_count": null,
   "id": "fb4ef5ee",
   "metadata": {},
   "outputs": [],
   "source": [
    "top10=stocks.loc[stocks['rank'] < 11]\n",
    "top490 = stocks.loc[stocks['rank'] > 10]"
   ]
  },
  {
   "cell_type": "markdown",
   "id": "b12bb9f8",
   "metadata": {},
   "source": [
    "Let's check and see how the concentration risk (how much of the S&P 500 is in the top 10 stocks) has varied over time: "
   ]
  },
  {
   "cell_type": "code",
   "execution_count": null,
   "id": "baddf12e",
   "metadata": {},
   "outputs": [],
   "source": [
    "plt.plot(top10['MCwt'].groupby('DATE').sum())"
   ]
  },
  {
   "cell_type": "code",
   "execution_count": null,
   "id": "ee65ec9d",
   "metadata": {},
   "outputs": [],
   "source": [
    "top10['MCwt2'] = top10['lag MC'] / top10['lag MC'].groupby('DATE').sum()\n",
    "top490['MCwt2'] = top490['lag MC'] / top490['lag MC'].groupby('DATE').sum()"
   ]
  },
  {
   "cell_type": "code",
   "execution_count": null,
   "id": "5e36d6d2",
   "metadata": {},
   "outputs": [],
   "source": []
  },
  {
   "cell_type": "code",
   "execution_count": null,
   "id": "15b276a9",
   "metadata": {},
   "outputs": [],
   "source": [
    "top10['ret10']=top10['RET']*top10['MCwt2']\n",
    "top490['ret490']=top490['RET']*top490['MCwt2']\n",
    "port10 = top10['ret10'].groupby('DATE').sum()\n",
    "port490 = top490['ret490'].groupby('DATE').sum()"
   ]
  },
  {
   "cell_type": "markdown",
   "id": "3d02fbd0",
   "metadata": {},
   "source": [
    "The concat function will allow us to put all of these return series into a single dataframe."
   ]
  },
  {
   "cell_type": "code",
   "execution_count": null,
   "id": "1e7347b5",
   "metadata": {},
   "outputs": [],
   "source": [
    "portfolios = pd.concat([port500, EWport, port10, port490],axis=1)\n",
    "portfolios.rename(columns={'RET':'EW'},inplace=True)"
   ]
  },
  {
   "cell_type": "code",
   "execution_count": null,
   "id": "71da88b8",
   "metadata": {},
   "outputs": [],
   "source": [
    "portfolios"
   ]
  },
  {
   "cell_type": "markdown",
   "id": "dbd9edd6",
   "metadata": {},
   "source": [
    "Let's look at the annualzied returns and sharpe ratios for all these portfolios"
   ]
  },
  {
   "cell_type": "code",
   "execution_count": null,
   "id": "c778c2b4",
   "metadata": {},
   "outputs": [],
   "source": [
    "portfolios.describe()"
   ]
  },
  {
   "cell_type": "markdown",
   "id": "8e1a333e",
   "metadata": {},
   "source": [
    "Let's create a new dataframe for the annualized means and sharpe ratios"
   ]
  },
  {
   "cell_type": "code",
   "execution_count": null,
   "id": "82b29975",
   "metadata": {},
   "outputs": [],
   "source": [
    "portmeans=portfolios.describe()\n",
    "portmeans.loc['mean']=portmeans.loc['mean']*12\n",
    "portmeans.loc['std']=portmeans.loc['std']*np.sqrt(12)\n",
    "portmeans.loc['sharpe*'] = portmeans.loc['mean']/portmeans.loc['std']"
   ]
  },
  {
   "cell_type": "code",
   "execution_count": null,
   "id": "cae77aed",
   "metadata": {},
   "outputs": [],
   "source": [
    "portmeans"
   ]
  },
  {
   "cell_type": "markdown",
   "id": "9a150592",
   "metadata": {},
   "source": [
    "So the top 10 stocks have underperformed the other 490 by an average of about 60 bps per year. And they have done so with more volatility!\n",
    "\n",
    "Next let's just reproduce the chart we saw a the beginning of class"
   ]
  },
  {
   "cell_type": "code",
   "execution_count": null,
   "id": "6404bb0f",
   "metadata": {},
   "outputs": [],
   "source": [
    "portCum = portfolios+1\n",
    "portCum = portCum.cumprod(skipna=True)"
   ]
  },
  {
   "cell_type": "code",
   "execution_count": null,
   "id": "4876a2a4",
   "metadata": {},
   "outputs": [],
   "source": [
    "portCum.drop(['EW','ret10'],axis=1,inplace=True)"
   ]
  },
  {
   "cell_type": "code",
   "execution_count": null,
   "id": "e69e572d",
   "metadata": {},
   "outputs": [],
   "source": [
    "plt.plot(portCum)"
   ]
  },
  {
   "cell_type": "code",
   "execution_count": null,
   "id": "65efd4f2",
   "metadata": {},
   "outputs": [],
   "source": [
    "plt.yscale('log')\n",
    "plt.plot(portCum)"
   ]
  },
  {
   "cell_type": "code",
   "execution_count": null,
   "id": "438946cf",
   "metadata": {},
   "outputs": [],
   "source": []
  }
 ],
 "metadata": {
  "kernelspec": {
   "display_name": "Python 3 (ipykernel)",
   "language": "python",
   "name": "python3"
  },
  "language_info": {
   "codemirror_mode": {
    "name": "ipython",
    "version": 3
   },
   "file_extension": ".py",
   "mimetype": "text/x-python",
   "name": "python",
   "nbconvert_exporter": "python",
   "pygments_lexer": "ipython3",
   "version": "3.11.4"
  }
 },
 "nbformat": 4,
 "nbformat_minor": 5
}
